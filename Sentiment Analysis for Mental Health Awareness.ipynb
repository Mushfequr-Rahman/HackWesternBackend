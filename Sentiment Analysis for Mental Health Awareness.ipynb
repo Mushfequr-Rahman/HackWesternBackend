{
 "cells": [
  {
   "cell_type": "code",
   "execution_count": 1,
   "metadata": {},
   "outputs": [],
   "source": [
    "import json \n",
    "import pandas as pd \n",
    "import matplotlib.pyplot as plt \n",
    "\"\"\"\n",
    "TODOS: \n",
    "1) Get the dataset and read it in \n",
    "2) Keyword search for emotional value \n",
    "3) Emotional Value Classification \n",
    "\"\"\""
   ]
  },
  {
   "cell_type": "code",
   "execution_count": 46,
   "metadata": {},
   "outputs": [
    {
     "name": "stdout",
     "output_type": "stream",
     "text": [
      "3574\n",
      "Data Head:                     id  sentiment\n",
      "0  870430762255953920         -1\n",
      "1  870430770141253632         -1\n",
      "2  870430771592413187         -1\n",
      "3  870430772800479233         -1\n",
      "4  870430776432644096          1\n",
      "0       870430762255953920\n",
      "1       870430770141253632\n",
      "2       870430771592413187\n",
      "3       870430772800479233\n",
      "4       870430776432644096\n",
      "               ...        \n",
      "3569    870439971378798592\n",
      "3570    870439972490358785\n",
      "3571    870439973551353856\n",
      "3572    870439974159745024\n",
      "3573    870439980392484864\n",
      "Name: id, Length: 3574, dtype: int64\n",
      "Sent data length:  3574\n",
      "['Hey,', 'look', '-', 'I', 'found', 'my', 'social', 'anxiety', 'again.', 'Was', 'wondering', 'where', 'that', 'went.']\n"
     ]
    }
   ],
   "source": [
    "tweets_data_path = 'tweetdata.txt'\n",
    "\n",
    "tweets_data = []\n",
    "tweets_file = open(tweets_data_path,'r')\n",
    "for line in tweets_file: \n",
    "    try:  \n",
    "        tweet = json.loads(line)\n",
    "        tweets_data.append(tweet)\n",
    "    except:\n",
    "        continue \n",
    "print(len(tweets_data))\n",
    "sent = pd.read_excel('sentiment2.xlsx')\n",
    "print(\"Data Head: \", sent.head())\n",
    "print(sent['id'])\n",
    "print('Sent data length: ', len(sent))\n",
    "\n",
    "x = []\n",
    "y = []\n",
    "for i in range(len(tweets_data)): \n",
    "    if(tweets_data[i]['id']==sent['id'][i]): \n",
    "        x.append(tweets_data[i]['text'])\n",
    "        y.append(sent['sentiment'][i])\n",
    "print(x[0].split(\" \"))\n",
    " "
   ]
  },
  {
   "cell_type": "code",
   "execution_count": 16,
   "metadata": {},
   "outputs": [],
   "source": [
    "emotional_keywords = ['anxiety','depression','sad','mad','anger', 'happy']\n",
    "def dict_search(keywords,sentenceList):\n",
    "    count = dict() \n",
    "    \n",
    "    for sentence in sentenceList: \n",
    "        for key in emotional_keywords: \n",
    "            if key in sentence:\n",
    "                if key in count: \n",
    "                    count[key] += 1\n",
    "                else: \n",
    "                    count[key] = 1\n",
    "    return count "
   ]
  },
  {
   "cell_type": "code",
   "execution_count": 17,
   "metadata": {},
   "outputs": [
    {
     "name": "stdout",
     "output_type": "stream",
     "text": [
      "{'anxiety': 237, 'depression': 241, 'mad': 14, 'sad': 9, 'happy': 8, 'anger': 3}\n"
     ]
    },
    {
     "data": {
      "text/plain": [
       "<BarContainer object of 6 artists>"
      ]
     },
     "execution_count": 17,
     "metadata": {},
     "output_type": "execute_result"
    },
    {
     "data": {
      "image/png": "[encoded data removed]",
      "text/plain": [
       "<Figure size 432x288 with 1 Axes>"
      ]
     },
     "metadata": {
      "needs_background": "light"
     },
     "output_type": "display_data"
    }
   ],
   "source": [
    "word_counts = dict_search(emotional_keywords,x[1:1000])\n",
    "print(word_counts)\n",
    "plt.bar(word_counts.keys(),word_counts.values())"
   ]
  },
  {
   "cell_type": "code",
   "execution_count": 23,
   "metadata": {},
   "outputs": [
    {
     "name": "stdout",
     "output_type": "stream",
     "text": [
      "Multinomal naive bayes AUC: 0.9589814677219942\n",
      "[1]\n",
      "[-1]\n"
     ]
    }
   ],
   "source": [
    "\"Section for Neural Network Architechture\"\n",
    "from sklearn.naive_bayes import MultinomialNB\n",
    "from sklearn.feature_extraction.text import CountVectorizer \n",
    "from sklearn import metrics \n",
    "\n",
    "vectorizer = CountVectorizer(stop_words='english')\n",
    "\n",
    "\n",
    "actual = y[:-500]\n",
    "nb = MultinomialNB() \n",
    "nb.fit(train_features,[int(r) for r in y])\n",
    "test_features = vectorizer.transform(x[:-500])\n",
    "test_try = vectorizer.transform([\"Can we all treating anxiety like it's choice\"])\n",
    "test_try2 = vectorizer.transform([\"I want to die depression sucks\"])\n",
    "predict = nb.predict(test_try)\n",
    "predict2 = nb.predict(test_try2)\n",
    "\n",
    "predictions = nb.predict(test_features)\n",
    "fpr, tpr , thresholds = metrics.roc_curve(actual,predictions,pos_label=1)\n",
    "print(\"Multinomal naive bayes AUC: {0}\".format(metrics.auc(fpr,tpr)))\n",
    "print(predict)\n",
    "print(predict2)\n"
   ]
  },
  {
   "cell_type": "code",
   "execution_count": 43,
   "metadata": {},
   "outputs": [
    {
     "name": "stdout",
     "output_type": "stream",
     "text": [
      "[-1, 'sad']\n"
     ]
    }
   ],
   "source": [
    "def classifysentence(sentence,model,emdict): \n",
    "    emotion = \"\"\n",
    "    \n",
    "    predict = vectorizer.transform(sentence)\n",
    "    prediction = model.predict(predict)\n",
    "    for key in emdict:\n",
    "        if key in sentence[0]: \n",
    "            emotion = key\n",
    "    return [prediction[0], emotion]\n",
    "\n",
    "res = classifysentence([\"I feel really sad today\"],nb,emotional_keywords)\n",
    "print(res)"
   ]
  },
  {
   "cell_type": "code",
   "execution_count": 44,
   "metadata": {},
   "outputs": [],
   "source": [
    "from joblib import dump, load "
   ]
  },
  {
   "cell_type": "code",
   "execution_count": 45,
   "metadata": {},
   "outputs": [
    {
     "data": {
      "text/plain": [
       "['sentiment_analyzer.joblib']"
      ]
     },
     "execution_count": 45,
     "metadata": {},
     "output_type": "execute_result"
    }
   ],
   "source": [
    "dump(nb,\"sentiment_analyzer.joblib\")"
   ]
  },
  {
   "cell_type": "code",
   "execution_count": 48,
   "metadata": {},
   "outputs": [
    {
     "name": "stdout",
     "output_type": "stream",
     "text": [
      "[-1]\n"
     ]
    }
   ],
   "source": [
    "model = load('sentiment_analyzer.joblib')\n",
    "sentence = [\"I am sad\"]\n",
    "vector = vectorizer.transform(sentence)\n",
    "prediction = model.predict(vector)\n",
    "print(prediction)"
   ]
  },
  {
   "cell_type": "code",
   "execution_count": null,
   "metadata": {},
   "outputs": [],
   "source": []
  }
 ],
 "metadata": {
  "kernelspec": {
   "display_name": "Python 3",
   "language": "python",
   "name": "python3"
  },
  "language_info": {
   "codemirror_mode": {
    "name": "ipython",
    "version": 3
   },
   "file_extension": ".py",
   "mimetype": "text/x-python",
   "name": "python",
   "nbconvert_exporter": "python",
   "pygments_lexer": "ipython3",
   "version": "3.6.9"
  }
 },
 "nbformat": 4,
 "nbformat_minor": 2
}
